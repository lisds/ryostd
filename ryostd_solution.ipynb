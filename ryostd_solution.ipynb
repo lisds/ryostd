{
 "cells": [
  {
   "cell_type": "markdown",
   "id": "318e992d",
   "metadata": {},
   "source": [
    "# Roll your own standardize\n",
    "\n",
    "The world nearly ended, and you have lost most of Numpy.\n",
    "\n",
    "All you have left is:\n",
    "\n",
    "* `np.array`.  You can make arrays, and these will add, subtract,\n",
    "  multiply, divide and so on.\n",
    "* `np.sum`. Luckily the internet saved the code for the `sum` function\n",
    "  as well as:\n",
    "* `np.sqrt`;  You can also take the square root.\n",
    "\n",
    "But that's all that's left - you have no other functions in Numpy.\n",
    "\n",
    "As a well-trained data scientist, you need functions to:\n",
    "\n",
    "* Calculate the mean of an array.\n",
    "* Calculate the variance of an array.\n",
    "* Calculate the standard deviation of an array.\n",
    "* Return the array in standard units.\n",
    "\n",
    "This next cell makes you a new reduced version of the Numpy module."
   ]
  },
  {
   "cell_type": "code",
   "execution_count": 1,
   "id": "46f14065",
   "metadata": {
    "execution": {
     "iopub.execute_input": "2022-11-19T23:19:19.500951Z",
     "iopub.status.busy": "2022-11-19T23:19:19.500553Z",
     "iopub.status.idle": "2022-11-19T23:19:19.575391Z",
     "shell.execute_reply": "2022-11-19T23:19:19.572956Z"
    }
   },
   "outputs": [],
   "source": [
    "# This cell makes a tiny fake 'np' module with the things you can use.\n",
    "# Run it to put the guard-rails in place!\n",
    "import numpy as old_np  # Forbidden Numpy with funny name.\n",
    "# Set precision of printing for neatness\n",
    "old_np.set_printoptions(precision=4, suppress=True)\n",
    "class np:  # Fake np module with stuff you can use.\n",
    "    sum = old_np.sum\n",
    "    array = old_np.array\n",
    "    sqrt = old_np.sqrt"
   ]
  },
  {
   "cell_type": "markdown",
   "id": "fe7ebcd7",
   "metadata": {},
   "source": [
    "Here are some arrays you can test your functions with:"
   ]
  },
  {
   "cell_type": "code",
   "execution_count": 2,
   "id": "3ba0c216",
   "metadata": {
    "execution": {
     "iopub.execute_input": "2022-11-19T23:19:19.579347Z",
     "iopub.status.busy": "2022-11-19T23:19:19.579058Z",
     "iopub.status.idle": "2022-11-19T23:19:19.583652Z",
     "shell.execute_reply": "2022-11-19T23:19:19.582621Z"
    }
   },
   "outputs": [],
   "source": [
    "test1 = np.array([7.83, 11.33, 13.38, 5.18, 11.75, 9.65,\n",
    "                  7.78, 9.68, 13.08, 10.])\n",
    "test2 = np.array([15.03, -1.79, 8.45, 24.92, -4.52, 9.19,\n",
    "                  -38.60, -14.42])\n",
    "test3 = np.array([11, 13, 18, 7, 12, 8, 1, 3, 5, 13, 11, 1, 15, -2, -3])"
   ]
  },
  {
   "cell_type": "markdown",
   "id": "c3ac2a69",
   "metadata": {},
   "source": [
    "Now define a function `my_mean` that calculates the mean of its only argument, an array `arr`:"
   ]
  },
  {
   "cell_type": "code",
   "execution_count": 3,
   "id": "fad889f4",
   "metadata": {
    "execution": {
     "iopub.execute_input": "2022-11-19T23:19:19.586917Z",
     "iopub.status.busy": "2022-11-19T23:19:19.586695Z",
     "iopub.status.idle": "2022-11-19T23:19:19.591865Z",
     "shell.execute_reply": "2022-11-19T23:19:19.589497Z"
    }
   },
   "outputs": [],
   "source": [
    "def my_mean(arr):\n",
    "    return np.sum(arr) / len(arr)"
   ]
  },
  {
   "cell_type": "markdown",
   "id": "e80bd291",
   "metadata": {},
   "source": [
    "Test your function with these print statements, that show the mean as\n",
    "calculated by you, and by the full Numpy from the past.\n",
    "\n",
    "The should show the same result printed twice."
   ]
  },
  {
   "cell_type": "code",
   "execution_count": 4,
   "id": "29198771",
   "metadata": {
    "execution": {
     "iopub.execute_input": "2022-11-19T23:19:19.595336Z",
     "iopub.status.busy": "2022-11-19T23:19:19.595103Z",
     "iopub.status.idle": "2022-11-19T23:19:19.601261Z",
     "shell.execute_reply": "2022-11-19T23:19:19.599679Z"
    }
   },
   "outputs": [],
   "source": [
    "print(my_mean(test1), old_np.mean(test1))\n",
    "print(my_mean(test2), old_np.mean(test2))\n",
    "print(my_mean(test3), old_np.mean(test3))"
   ]
  },
  {
   "cell_type": "markdown",
   "id": "acd61a44",
   "metadata": {},
   "source": [
    "Next write a function called `my_var` that returns the *variance* for the input array `arr`.  Remember, the *variance* is the mean squared deviation of the array."
   ]
  },
  {
   "cell_type": "code",
   "execution_count": 5,
   "id": "351ad0c1",
   "metadata": {
    "execution": {
     "iopub.execute_input": "2022-11-19T23:19:19.607058Z",
     "iopub.status.busy": "2022-11-19T23:19:19.606732Z",
     "iopub.status.idle": "2022-11-19T23:19:19.610971Z",
     "shell.execute_reply": "2022-11-19T23:19:19.609968Z"
    }
   },
   "outputs": [],
   "source": [
    "def my_var(arr):\n",
    "    devs = arr - my_mean(arr)\n",
    "    return my_mean(devs ** 2)"
   ]
  },
  {
   "cell_type": "markdown",
   "id": "bda82b96",
   "metadata": {},
   "source": [
    "Test your function with these print statements."
   ]
  },
  {
   "cell_type": "code",
   "execution_count": 6,
   "id": "95befd50",
   "metadata": {
    "execution": {
     "iopub.execute_input": "2022-11-19T23:19:19.614372Z",
     "iopub.status.busy": "2022-11-19T23:19:19.614012Z",
     "iopub.status.idle": "2022-11-19T23:19:19.622478Z",
     "shell.execute_reply": "2022-11-19T23:19:19.621923Z"
    }
   },
   "outputs": [],
   "source": [
    "print(my_var(test1), old_np.var(test1))\n",
    "print(my_var(test2), old_np.var(test2))\n",
    "print(my_var(test3), old_np.var(test3))"
   ]
  },
  {
   "cell_type": "markdown",
   "id": "6b98b9f1",
   "metadata": {},
   "source": [
    "Write a function `my_std` to calculate the *standard deviation* of\n",
    "`arr`:"
   ]
  },
  {
   "cell_type": "code",
   "execution_count": 7,
   "id": "4a9c95a4",
   "metadata": {
    "execution": {
     "iopub.execute_input": "2022-11-19T23:19:19.627778Z",
     "iopub.status.busy": "2022-11-19T23:19:19.627518Z",
     "iopub.status.idle": "2022-11-19T23:19:19.631771Z",
     "shell.execute_reply": "2022-11-19T23:19:19.631046Z"
    }
   },
   "outputs": [],
   "source": [
    "def my_std(arr):\n",
    "    return np.sqrt(my_var(arr))"
   ]
  },
  {
   "cell_type": "markdown",
   "id": "19172836",
   "metadata": {},
   "source": [
    "Test your function with these print statements."
   ]
  },
  {
   "cell_type": "code",
   "execution_count": 8,
   "id": "866a3afe",
   "metadata": {
    "execution": {
     "iopub.execute_input": "2022-11-19T23:19:19.635102Z",
     "iopub.status.busy": "2022-11-19T23:19:19.634894Z",
     "iopub.status.idle": "2022-11-19T23:19:19.644019Z",
     "shell.execute_reply": "2022-11-19T23:19:19.642426Z"
    }
   },
   "outputs": [],
   "source": [
    "print(my_std(test1), old_np.std(test1))\n",
    "print(my_std(test2), old_np.std(test2))\n",
    "print(my_std(test3), old_np.std(test3))"
   ]
  },
  {
   "cell_type": "markdown",
   "id": "6a885874",
   "metadata": {},
   "source": [
    "Now write a function `my_standard_units` that returns an array `arr` in standard units:"
   ]
  },
  {
   "cell_type": "code",
   "execution_count": 9,
   "id": "8a642e89",
   "metadata": {
    "execution": {
     "iopub.execute_input": "2022-11-19T23:19:19.647299Z",
     "iopub.status.busy": "2022-11-19T23:19:19.647068Z",
     "iopub.status.idle": "2022-11-19T23:19:19.650764Z",
     "shell.execute_reply": "2022-11-19T23:19:19.650054Z"
    }
   },
   "outputs": [],
   "source": [
    "def my_standard_units(arr):\n",
    "    return (arr - my_mean(arr)) / my_std(arr)"
   ]
  },
  {
   "cell_type": "markdown",
   "id": "f706787e",
   "metadata": {},
   "source": [
    "This prints out the mean and standard deviation of your output arrays.\n",
    "The mean should be very close to 0, and the standard deviation should be\n",
    "very close to 1."
   ]
  },
  {
   "cell_type": "code",
   "execution_count": 10,
   "id": "0933d2a0",
   "metadata": {
    "execution": {
     "iopub.execute_input": "2022-11-19T23:19:19.654071Z",
     "iopub.status.busy": "2022-11-19T23:19:19.653775Z",
     "iopub.status.idle": "2022-11-19T23:19:19.658671Z",
     "shell.execute_reply": "2022-11-19T23:19:19.658150Z"
    }
   },
   "outputs": [],
   "source": [
    "su1 = my_standard_units(test1)\n",
    "print(my_mean(su1), my_std(su1))\n",
    "su2 = my_standard_units(test2)\n",
    "print(my_mean(su2), my_std(su2))\n",
    "su3 = my_standard_units(test3)\n",
    "print(my_mean(su3), my_std(su3))"
   ]
  },
  {
   "cell_type": "markdown",
   "id": "534309c9",
   "metadata": {},
   "source": [
    "## Sample variance, sample standard deviation\n",
    "\n",
    "Call the sum of squared deviations in an array $SS$.  Call the number of\n",
    "elements in an array $n$.\n",
    "\n",
    "The definition we have used so far for the variance is the mean of the\n",
    "(squared deviations from the mean).  Because of the definition of the\n",
    "mean, could also write this as $SS / n$.\n",
    "\n",
    "In fact there are two common definitions for variance.  The definition\n",
    "above is often called the *population variance*.  Another common\n",
    "definition of variance is the *sample variance*. See [this Wikipedia\n",
    "section on\n",
    "variance](https://en.wikipedia.org/wiki/Variance#Population_variance_and_sample_variance)\n",
    "for more detail.\n",
    "\n",
    "The *sample variance* a very slight tweak to the population variance.\n",
    "It is the (sum of the squared deviation from the mean) divided by (the\n",
    "number of elements minus 1).  This is $SS / (n - 1)$ in the symbols\n",
    "above.\n",
    "\n",
    "The matching *sample standard deviation* is the square root of the\n",
    "sample variance.\n",
    "\n",
    "Make a function `my_sample_var` to calculate the *sample variance*:"
   ]
  },
  {
   "cell_type": "code",
   "execution_count": 11,
   "id": "f06c96b1",
   "metadata": {
    "execution": {
     "iopub.execute_input": "2022-11-19T23:19:19.665199Z",
     "iopub.status.busy": "2022-11-19T23:19:19.664964Z",
     "iopub.status.idle": "2022-11-19T23:19:19.669013Z",
     "shell.execute_reply": "2022-11-19T23:19:19.668472Z"
    }
   },
   "outputs": [],
   "source": [
    "def my_sample_var(arr):\n",
    "    devs = arr - my_mean(arr)\n",
    "    return np.sum(devs ** 2) / (len(arr) - 1)"
   ]
  },
  {
   "cell_type": "markdown",
   "id": "49468ad4",
   "metadata": {},
   "source": [
    "Test your function with these print statements."
   ]
  },
  {
   "cell_type": "code",
   "execution_count": 12,
   "id": "128d5480",
   "metadata": {
    "execution": {
     "iopub.execute_input": "2022-11-19T23:19:19.675300Z",
     "iopub.status.busy": "2022-11-19T23:19:19.673724Z",
     "iopub.status.idle": "2022-11-19T23:19:19.680719Z",
     "shell.execute_reply": "2022-11-19T23:19:19.679835Z"
    }
   },
   "outputs": [],
   "source": [
    "print(my_sample_var(test1), old_np.var(test1, ddof=1))\n",
    "print(my_sample_var(test2), old_np.var(test2, ddof=1))\n",
    "print(my_sample_var(test3), old_np.var(test3, ddof=1))"
   ]
  },
  {
   "cell_type": "markdown",
   "id": "e3e64068",
   "metadata": {},
   "source": [
    "Make a function `my_sample_std` to calculate the *sample standard\n",
    "deviation*:"
   ]
  },
  {
   "cell_type": "code",
   "execution_count": 13,
   "id": "6dfc35f6",
   "metadata": {
    "execution": {
     "iopub.execute_input": "2022-11-19T23:19:19.684024Z",
     "iopub.status.busy": "2022-11-19T23:19:19.683693Z",
     "iopub.status.idle": "2022-11-19T23:19:19.688842Z",
     "shell.execute_reply": "2022-11-19T23:19:19.686279Z"
    }
   },
   "outputs": [],
   "source": [
    "def my_sample_std(arr):\n",
    "    return np.sqrt(my_sample_var(arr))"
   ]
  },
  {
   "cell_type": "markdown",
   "id": "5fe73564",
   "metadata": {},
   "source": [
    "Test your function with these print statements."
   ]
  },
  {
   "cell_type": "code",
   "execution_count": 14,
   "id": "c86bf371",
   "metadata": {
    "execution": {
     "iopub.execute_input": "2022-11-19T23:19:19.693153Z",
     "iopub.status.busy": "2022-11-19T23:19:19.692908Z",
     "iopub.status.idle": "2022-11-19T23:19:19.698442Z",
     "shell.execute_reply": "2022-11-19T23:19:19.697796Z"
    }
   },
   "outputs": [],
   "source": [
    "print(my_sample_std(test1), old_np.std(test1, ddof=1))\n",
    "print(my_sample_std(test2), old_np.std(test2, ddof=1))\n",
    "print(my_sample_std(test3), old_np.std(test3, ddof=1))"
   ]
  }
 ],
 "metadata": {
  "jupytext": {
   "split_at_heading": true,
   "text_representation": {
    "extension": ".Rmd",
    "format_name": "rmarkdown",
    "format_version": "1.1",
    "jupytext_version": "1.2.4"
   }
  },
  "kernelspec": {
   "display_name": "Python 3",
   "language": "python",
   "name": "python3"
  },
  "language_info": {
   "codemirror_mode": {
    "name": "ipython",
    "version": 3
   },
   "file_extension": ".py",
   "mimetype": "text/x-python",
   "name": "python",
   "nbconvert_exporter": "python",
   "pygments_lexer": "ipython3",
   "version": "3.10.7"
  }
 },
 "nbformat": 4,
 "nbformat_minor": 5
}
